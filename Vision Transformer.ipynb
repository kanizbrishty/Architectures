{
  "nbformat": 4,
  "nbformat_minor": 0,
  "metadata": {
    "colab": {
      "name": "Vit_keras.ipynb",
      "provenance": [],
      "collapsed_sections": []
    },
    "kernelspec": {
      "name": "python3",
      "display_name": "Python 3"
    },
    "language_info": {
      "name": "python"
    }
  },
  "cells": [
    {
      "cell_type": "code",
      "metadata": {
        "id": "HO6G5zLmEzg3",
        "colab": {
          "base_uri": "https://localhost:8080/"
        },
        "outputId": "ff14d138-70ed-4072-851c-41dc1689944a"
      },
      "source": [
        "from google.colab import drive\n",
        "drive.mount('/content/drive')"
      ],
      "execution_count": null,
      "outputs": [
        {
          "output_type": "stream",
          "name": "stdout",
          "text": [
            "Drive already mounted at /content/drive; to attempt to forcibly remount, call drive.mount(\"/content/drive\", force_remount=True).\n"
          ]
        }
      ]
    },
    {
      "cell_type": "code",
      "source": [
        "### unzipping\n",
        "\n",
        "!unzip -u \"/content/drive/MyDrive/Defance/pad augmanted dataset.zip\" -d \"/content\"\n",
        "\n",
        "print('\\ndone!')"
      ],
      "metadata": {
        "id": "ZI1VvtSRulN0"
      },
      "execution_count": null,
      "outputs": []
    },
    {
      "cell_type": "code",
      "metadata": {
        "id": "eBtkYTieE6B2"
      },
      "source": [
        "import matplotlib.pyplot as plt\n",
        "import seaborn as sns\n",
        "\n",
        "import keras\n",
        "from keras.models import Sequential\n",
        "from keras.layers import Dense, Conv2D , MaxPool2D , Flatten , Dropout \n",
        "from keras.preprocessing.image import ImageDataGenerator\n",
        "from tensorflow.keras.optimizers import Adam\n",
        "\n",
        "from sklearn.metrics import classification_report,confusion_matrix\n",
        "\n",
        "import tensorflow as tf\n",
        "\n",
        "import cv2\n",
        "import os\n",
        "\n",
        "import numpy as np"
      ],
      "execution_count": null,
      "outputs": []
    },
    {
      "cell_type": "code",
      "metadata": {
        "id": "HYaUeCDyFWYV"
      },
      "source": [
        "labels = [\"images_01\", \"images_02\"]\n",
        "img_size = 32\n",
        "def get_data(data_dir):\n",
        "    data = [] \n",
        "    for label in labels: \n",
        "        path = os.path.join(data_dir, label)\n",
        "        class_num = labels.index(label)\n",
        "        for img in os.listdir(path):\n",
        "            try:\n",
        "                img_arr = cv2.imread(os.path.join(path, img))[...,::-1] #convert BGR to RGB format\n",
        "                resized_arr = cv2.resize(img_arr, (img_size, img_size)) # Reshaping images to preferred size\n",
        "                data.append([resized_arr, class_num])\n",
        "            except Exception as e:\n",
        "                print(e)\n",
        "    return np.array(data)"
      ],
      "execution_count": null,
      "outputs": []
    },
    {
      "cell_type": "code",
      "metadata": {
        "id": "svPcKiYHFiC4",
        "colab": {
          "base_uri": "https://localhost:8080/"
        },
        "outputId": "765e46ba-9443-4501-ed4b-56392a43a5ba"
      },
      "source": [
        "\n",
        "train = get_data('/content/drive/MyDrive/Dataset orginial/x-rey')"
      ],
      "execution_count": null,
      "outputs": [
        {
          "output_type": "stream",
          "name": "stderr",
          "text": [
            "/usr/local/lib/python3.7/dist-packages/ipykernel_launcher.py:15: VisibleDeprecationWarning: Creating an ndarray from ragged nested sequences (which is a list-or-tuple of lists-or-tuples-or ndarrays with different lengths or shapes) is deprecated. If you meant to do this, you must specify 'dtype=object' when creating the ndarray\n",
            "  from ipykernel import kernelapp as app\n"
          ]
        }
      ]
    },
    {
      "cell_type": "code",
      "metadata": {
        "colab": {
          "base_uri": "https://localhost:8080/",
          "height": 337
        },
        "id": "cvO09r2VFukJ",
        "outputId": "00dc1d8b-4f91-4742-c9fb-815714b5efce"
      },
      "source": [
        "l = []\n",
        "for i in train:\n",
        "    if(i[1] == 0):\n",
        "        l.append(\"Covid\")\n",
        "    elif(i[1] == 1):\n",
        "          l.append(\"Normal\")\n",
        "    else :\n",
        "        l.append(\"Viral Pneumonia\")\n",
        "sns.set_style('darkgrid')\n",
        "sns.countplot(l)"
      ],
      "execution_count": null,
      "outputs": [
        {
          "output_type": "stream",
          "name": "stderr",
          "text": [
            "/usr/local/lib/python3.7/dist-packages/seaborn/_decorators.py:43: FutureWarning: Pass the following variable as a keyword arg: x. From version 0.12, the only valid positional argument will be `data`, and passing other arguments without an explicit keyword will result in an error or misinterpretation.\n",
            "  FutureWarning\n"
          ]
        },
        {
          "output_type": "execute_result",
          "data": {
            "text/plain": [
              "<matplotlib.axes._subplots.AxesSubplot at 0x7f1fc19e1f50>"
            ]
          },
          "metadata": {},
          "execution_count": 7
        },
        {
          "output_type": "display_data",
          "data": {
            "image/png": "[encoded data removed]",
            "text/plain": [
              "<Figure size 432x288 with 1 Axes>"
            ]
          },
          "metadata": {}
        }
      ]
    },
    {
      "cell_type": "code",
      "metadata": {
        "colab": {
          "base_uri": "https://localhost:8080/",
          "height": 353
        },
        "id": "zfHitVJwGerU",
        "outputId": "508d2bf0-7acf-448d-cd5c-1e70dd8082a1"
      },
      "source": [
        "plt.figure(figsize = (5,5))\n",
        "plt.imshow(train[1][0])\n",
        "plt.title(labels[train[0][1]])"
      ],
      "execution_count": null,
      "outputs": [
        {
          "output_type": "execute_result",
          "data": {
            "text/plain": [
              "Text(0.5, 1.0, 'images_01')"
            ]
          },
          "metadata": {},
          "execution_count": 8
        },
        {
          "output_type": "display_data",
          "data": {
            "image/png": "[encoded data removed]",
            "text/plain": [
              "<Figure size 360x360 with 1 Axes>"
            ]
          },
          "metadata": {}
        }
      ]
    },
    {
      "cell_type": "code",
      "metadata": {
        "id": "PHnUgBJRGlkl"
      },
      "source": [
        "x_train = []\n",
        "y_train = []\n",
        "\n",
        "\n",
        "for feature, label in train:\n",
        "  x_train.append(feature)\n",
        "  y_train.append(label)\n",
        "x_train = np.array(x_train) / 255\n",
        "x_train.reshape(-1, img_size, img_size, 1)\n",
        "y_train = np.array(y_train)\n"
      ],
      "execution_count": null,
      "outputs": []
    },
    {
      "cell_type": "code",
      "metadata": {
        "colab": {
          "base_uri": "https://localhost:8080/"
        },
        "id": "ixP7JmoAG2R_",
        "outputId": "c0b31eed-700d-43e9-e9b0-00ee8e6b2607"
      },
      "source": [
        "print(x_train.shape)"
      ],
      "execution_count": null,
      "outputs": [
        {
          "output_type": "stream",
          "name": "stdout",
          "text": [
            "(7126, 32, 32, 3)\n"
          ]
        }
      ]
    },
    {
      "cell_type": "code",
      "metadata": {
        "id": "LQXpDmbJP9fJ"
      },
      "source": [
        ""
      ],
      "execution_count": null,
      "outputs": []
    },
    {
      "cell_type": "code",
      "metadata": {
        "id": "_KIeY9WGHEg3"
      },
      "source": [
        "# split with a stratified sampling\n",
        "from sklearn.model_selection import train_test_split\n",
        "(x_train, x_test, y_train, y_test) = train_test_split(x_train, y_train,\n",
        "    test_size=0.3, stratify=y_train, random_state=42)"
      ],
      "execution_count": null,
      "outputs": []
    },
    {
      "cell_type": "code",
      "metadata": {
        "colab": {
          "base_uri": "https://localhost:8080/"
        },
        "id": "sCphsqzNHU_v",
        "outputId": "d2b1788c-13c2-4002-cd67-e59b64686eb8"
      },
      "source": [
        "pip install -U tensorflow-addons"
      ],
      "execution_count": null,
      "outputs": [
        {
          "output_type": "stream",
          "name": "stdout",
          "text": [
            "Collecting tensorflow-addons\n",
            "  Downloading tensorflow_addons-0.14.0-cp37-cp37m-manylinux_2_12_x86_64.manylinux2010_x86_64.whl (1.1 MB)\n",
            "\u001b[?25l\r\u001b[K     |▎                               | 10 kB 18.1 MB/s eta 0:00:01\r\u001b[K     |▋                               | 20 kB 21.6 MB/s eta 0:00:01\r\u001b[K     |▉                               | 30 kB 17.5 MB/s eta 0:00:01\r\u001b[K     |█▏                              | 40 kB 11.4 MB/s eta 0:00:01\r\u001b[K     |█▌                              | 51 kB 5.3 MB/s eta 0:00:01\r\u001b[K     |█▊                              | 61 kB 5.7 MB/s eta 0:00:01\r\u001b[K     |██                              | 71 kB 6.1 MB/s eta 0:00:01\r\u001b[K     |██▍                             | 81 kB 6.8 MB/s eta 0:00:01\r\u001b[K     |██▋                             | 92 kB 7.3 MB/s eta 0:00:01\r\u001b[K     |███                             | 102 kB 5.5 MB/s eta 0:00:01\r\u001b[K     |███▎                            | 112 kB 5.5 MB/s eta 0:00:01\r\u001b[K     |███▌                            | 122 kB 5.5 MB/s eta 0:00:01\r\u001b[K     |███▉                            | 133 kB 5.5 MB/s eta 0:00:01\r\u001b[K     |████▏                           | 143 kB 5.5 MB/s eta 0:00:01\r\u001b[K     |████▍                           | 153 kB 5.5 MB/s eta 0:00:01\r\u001b[K     |████▊                           | 163 kB 5.5 MB/s eta 0:00:01\r\u001b[K     |█████                           | 174 kB 5.5 MB/s eta 0:00:01\r\u001b[K     |█████▎                          | 184 kB 5.5 MB/s eta 0:00:01\r\u001b[K     |█████▋                          | 194 kB 5.5 MB/s eta 0:00:01\r\u001b[K     |██████                          | 204 kB 5.5 MB/s eta 0:00:01\r\u001b[K     |██████▏                         | 215 kB 5.5 MB/s eta 0:00:01\r\u001b[K     |██████▌                         | 225 kB 5.5 MB/s eta 0:00:01\r\u001b[K     |██████▉                         | 235 kB 5.5 MB/s eta 0:00:01\r\u001b[K     |███████                         | 245 kB 5.5 MB/s eta 0:00:01\r\u001b[K     |███████▍                        | 256 kB 5.5 MB/s eta 0:00:01\r\u001b[K     |███████▊                        | 266 kB 5.5 MB/s eta 0:00:01\r\u001b[K     |████████                        | 276 kB 5.5 MB/s eta 0:00:01\r\u001b[K     |████████▎                       | 286 kB 5.5 MB/s eta 0:00:01\r\u001b[K     |████████▋                       | 296 kB 5.5 MB/s eta 0:00:01\r\u001b[K     |████████▉                       | 307 kB 5.5 MB/s eta 0:00:01\r\u001b[K     |█████████▏                      | 317 kB 5.5 MB/s eta 0:00:01\r\u001b[K     |█████████▌                      | 327 kB 5.5 MB/s eta 0:00:01\r\u001b[K     |█████████▊                      | 337 kB 5.5 MB/s eta 0:00:01\r\u001b[K     |██████████                      | 348 kB 5.5 MB/s eta 0:00:01\r\u001b[K     |██████████▍                     | 358 kB 5.5 MB/s eta 0:00:01\r\u001b[K     |██████████▋                     | 368 kB 5.5 MB/s eta 0:00:01\r\u001b[K     |███████████                     | 378 kB 5.5 MB/s eta 0:00:01\r\u001b[K     |███████████▎                    | 389 kB 5.5 MB/s eta 0:00:01\r\u001b[K     |███████████▌                    | 399 kB 5.5 MB/s eta 0:00:01\r\u001b[K     |███████████▉                    | 409 kB 5.5 MB/s eta 0:00:01\r\u001b[K     |████████████▏                   | 419 kB 5.5 MB/s eta 0:00:01\r\u001b[K     |████████████▍                   | 430 kB 5.5 MB/s eta 0:00:01\r\u001b[K     |████████████▊                   | 440 kB 5.5 MB/s eta 0:00:01\r\u001b[K     |█████████████                   | 450 kB 5.5 MB/s eta 0:00:01\r\u001b[K     |█████████████▎                  | 460 kB 5.5 MB/s eta 0:00:01\r\u001b[K     |█████████████▋                  | 471 kB 5.5 MB/s eta 0:00:01\r\u001b[K     |██████████████                  | 481 kB 5.5 MB/s eta 0:00:01\r\u001b[K     |██████████████▏                 | 491 kB 5.5 MB/s eta 0:00:01\r\u001b[K     |██████████████▌                 | 501 kB 5.5 MB/s eta 0:00:01\r\u001b[K     |██████████████▉                 | 512 kB 5.5 MB/s eta 0:00:01\r\u001b[K     |███████████████                 | 522 kB 5.5 MB/s eta 0:00:01\r\u001b[K     |███████████████▍                | 532 kB 5.5 MB/s eta 0:00:01\r\u001b[K     |███████████████▊                | 542 kB 5.5 MB/s eta 0:00:01\r\u001b[K     |████████████████                | 552 kB 5.5 MB/s eta 0:00:01\r\u001b[K     |████████████████▎               | 563 kB 5.5 MB/s eta 0:00:01\r\u001b[K     |████████████████▋               | 573 kB 5.5 MB/s eta 0:00:01\r\u001b[K     |████████████████▉               | 583 kB 5.5 MB/s eta 0:00:01\r\u001b[K     |█████████████████▏              | 593 kB 5.5 MB/s eta 0:00:01\r\u001b[K     |█████████████████▌              | 604 kB 5.5 MB/s eta 0:00:01\r\u001b[K     |█████████████████▊              | 614 kB 5.5 MB/s eta 0:00:01\r\u001b[K     |██████████████████              | 624 kB 5.5 MB/s eta 0:00:01\r\u001b[K     |██████████████████▍             | 634 kB 5.5 MB/s eta 0:00:01\r\u001b[K     |██████████████████▋             | 645 kB 5.5 MB/s eta 0:00:01\r\u001b[K     |███████████████████             | 655 kB 5.5 MB/s eta 0:00:01\r\u001b[K     |███████████████████▎            | 665 kB 5.5 MB/s eta 0:00:01\r\u001b[K     |███████████████████▌            | 675 kB 5.5 MB/s eta 0:00:01\r\u001b[K     |███████████████████▉            | 686 kB 5.5 MB/s eta 0:00:01\r\u001b[K     |████████████████████▏           | 696 kB 5.5 MB/s eta 0:00:01\r\u001b[K     |████████████████████▍           | 706 kB 5.5 MB/s eta 0:00:01\r\u001b[K     |████████████████████▊           | 716 kB 5.5 MB/s eta 0:00:01\r\u001b[K     |█████████████████████           | 727 kB 5.5 MB/s eta 0:00:01\r\u001b[K     |█████████████████████▎          | 737 kB 5.5 MB/s eta 0:00:01\r\u001b[K     |█████████████████████▋          | 747 kB 5.5 MB/s eta 0:00:01\r\u001b[K     |██████████████████████          | 757 kB 5.5 MB/s eta 0:00:01\r\u001b[K     |██████████████████████▏         | 768 kB 5.5 MB/s eta 0:00:01\r\u001b[K     |██████████████████████▌         | 778 kB 5.5 MB/s eta 0:00:01\r\u001b[K     |██████████████████████▉         | 788 kB 5.5 MB/s eta 0:00:01\r\u001b[K     |███████████████████████         | 798 kB 5.5 MB/s eta 0:00:01\r\u001b[K     |███████████████████████▍        | 808 kB 5.5 MB/s eta 0:00:01\r\u001b[K     |███████████████████████▊        | 819 kB 5.5 MB/s eta 0:00:01\r\u001b[K     |████████████████████████        | 829 kB 5.5 MB/s eta 0:00:01\r\u001b[K     |████████████████████████▎       | 839 kB 5.5 MB/s eta 0:00:01\r\u001b[K     |████████████████████████▋       | 849 kB 5.5 MB/s eta 0:00:01\r\u001b[K     |████████████████████████▉       | 860 kB 5.5 MB/s eta 0:00:01\r\u001b[K     |█████████████████████████▏      | 870 kB 5.5 MB/s eta 0:00:01\r\u001b[K     |█████████████████████████▍      | 880 kB 5.5 MB/s eta 0:00:01\r\u001b[K     |█████████████████████████▊      | 890 kB 5.5 MB/s eta 0:00:01\r\u001b[K     |██████████████████████████      | 901 kB 5.5 MB/s eta 0:00:01\r\u001b[K     |██████████████████████████▎     | 911 kB 5.5 MB/s eta 0:00:01\r\u001b[K     |██████████████████████████▋     | 921 kB 5.5 MB/s eta 0:00:01\r\u001b[K     |███████████████████████████     | 931 kB 5.5 MB/s eta 0:00:01\r\u001b[K     |███████████████████████████▏    | 942 kB 5.5 MB/s eta 0:00:01\r\u001b[K     |███████████████████████████▌    | 952 kB 5.5 MB/s eta 0:00:01\r\u001b[K     |███████████████████████████▉    | 962 kB 5.5 MB/s eta 0:00:01\r\u001b[K     |████████████████████████████    | 972 kB 5.5 MB/s eta 0:00:01\r\u001b[K     |████████████████████████████▍   | 983 kB 5.5 MB/s eta 0:00:01\r\u001b[K     |████████████████████████████▊   | 993 kB 5.5 MB/s eta 0:00:01\r\u001b[K     |█████████████████████████████   | 1.0 MB 5.5 MB/s eta 0:00:01\r\u001b[K     |█████████████████████████████▎  | 1.0 MB 5.5 MB/s eta 0:00:01\r\u001b[K     |█████████████████████████████▋  | 1.0 MB 5.5 MB/s eta 0:00:01\r\u001b[K     |█████████████████████████████▉  | 1.0 MB 5.5 MB/s eta 0:00:01\r\u001b[K     |██████████████████████████████▏ | 1.0 MB 5.5 MB/s eta 0:00:01\r\u001b[K     |██████████████████████████████▌ | 1.1 MB 5.5 MB/s eta 0:00:01\r\u001b[K     |██████████████████████████████▊ | 1.1 MB 5.5 MB/s eta 0:00:01\r\u001b[K     |███████████████████████████████ | 1.1 MB 5.5 MB/s eta 0:00:01\r\u001b[K     |███████████████████████████████▍| 1.1 MB 5.5 MB/s eta 0:00:01\r\u001b[K     |███████████████████████████████▋| 1.1 MB 5.5 MB/s eta 0:00:01\r\u001b[K     |████████████████████████████████| 1.1 MB 5.5 MB/s eta 0:00:01\r\u001b[K     |████████████████████████████████| 1.1 MB 5.5 MB/s \n",
            "\u001b[?25hRequirement already satisfied: typeguard>=2.7 in /usr/local/lib/python3.7/dist-packages (from tensorflow-addons) (2.7.1)\n",
            "Installing collected packages: tensorflow-addons\n",
            "Successfully installed tensorflow-addons-0.14.0\n"
          ]
        }
      ]
    },
    {
      "cell_type": "code",
      "metadata": {
        "id": "DsBnSXQKHj_P"
      },
      "source": [
        "import numpy as np\n",
        "import tensorflow as tf\n",
        "from tensorflow import keras\n",
        "from tensorflow.keras import layers\n",
        "import tensorflow_addons as tfa"
      ],
      "execution_count": null,
      "outputs": []
    },
    {
      "cell_type": "code",
      "metadata": {
        "id": "zCnQD0fYHlc4"
      },
      "source": [
        "num_classes = 3\n",
        "input_shape = (32, 32, 3)"
      ],
      "execution_count": null,
      "outputs": []
    },
    {
      "cell_type": "code",
      "metadata": {
        "colab": {
          "base_uri": "https://localhost:8080/"
        },
        "id": "D-KjND6AHsOR",
        "outputId": "a4da4022-af91-4424-baf7-f34bcf8092c4"
      },
      "source": [
        "print(f\"x_train shape: {x_train.shape} - y_train shape: {y_train.shape}\")\n",
        "print(f\"x_test shape: {x_test.shape} - y_test shape: {y_test.shape}\")"
      ],
      "execution_count": null,
      "outputs": [
        {
          "output_type": "stream",
          "name": "stdout",
          "text": [
            "x_train shape: (4988, 32, 32, 3) - y_train shape: (4988,)\n",
            "x_test shape: (2138, 32, 32, 3) - y_test shape: (2138,)\n"
          ]
        }
      ]
    },
    {
      "cell_type": "code",
      "metadata": {
        "id": "mLtjIkWQHv3h"
      },
      "source": [
        "learning_rate = 0.001\n",
        "weight_decay = 0.0001\n",
        "batch_size = 256\n",
        "num_epochs = 5\n",
        "image_size = 72  # We'll resize input images to this size\n",
        "patch_size = 6  # Size of the patches to be extract from the input images\n",
        "num_patches = (image_size // patch_size) ** 2\n",
        "projection_dim = 64\n",
        "num_heads = 4\n",
        "transformer_units = [\n",
        "    projection_dim * 2,\n",
        "    projection_dim,\n",
        "]  # Size of the transformer layers\n",
        "transformer_layers = 8\n",
        "mlp_head_units = [2048, 1024]  "
      ],
      "execution_count": null,
      "outputs": []
    },
    {
      "cell_type": "code",
      "metadata": {
        "id": "kWzcbnXGH3Ae"
      },
      "source": [
        "data_augmentation = keras.Sequential(\n",
        "    [\n",
        "        layers.Normalization(),\n",
        "        layers.Resizing(image_size, image_size),\n",
        "        layers.RandomFlip(\"horizontal\"),\n",
        "        layers.RandomRotation(factor=0.02),\n",
        "        layers.RandomZoom(\n",
        "            height_factor=0.2, width_factor=0.2\n",
        "        ),\n",
        "    ],\n",
        "    name=\"data_augmentation\",\n",
        ")\n",
        "# Compute the mean and the variance of the training data for normalization.\n",
        "data_augmentation.layers[0].adapt(x_train)"
      ],
      "execution_count": null,
      "outputs": []
    },
    {
      "cell_type": "code",
      "metadata": {
        "id": "RUT1nznaH512"
      },
      "source": [
        "def mlp(x, hidden_units, dropout_rate):\n",
        "    for units in hidden_units:\n",
        "        x = layers.Dense(units, activation=tf.nn.gelu)(x)\n",
        "        x = layers.Dropout(dropout_rate)(x)\n",
        "    return x"
      ],
      "execution_count": null,
      "outputs": []
    },
    {
      "cell_type": "code",
      "metadata": {
        "id": "GWBEfuvOH-By"
      },
      "source": [
        "class Patches(layers.Layer):\n",
        "    def __init__(self, patch_size):\n",
        "        super(Patches, self).__init__()\n",
        "        self.patch_size = patch_size\n",
        "\n",
        "    def call(self, images):\n",
        "        batch_size = tf.shape(images)[0]\n",
        "        patches = tf.image.extract_patches(\n",
        "            images=images,\n",
        "            sizes=[1, self.patch_size, self.patch_size, 1],\n",
        "            strides=[1, self.patch_size, self.patch_size, 1],\n",
        "            rates=[1, 1, 1, 1],\n",
        "            padding=\"VALID\",\n",
        "        )\n",
        "        patch_dims = patches.shape[-1]\n",
        "        patches = tf.reshape(patches, [batch_size, -1, patch_dims])\n",
        "        return patches"
      ],
      "execution_count": null,
      "outputs": []
    },
    {
      "cell_type": "code",
      "metadata": {
        "colab": {
          "base_uri": "https://localhost:8080/",
          "height": 550
        },
        "id": "GudULZrFH_N7",
        "outputId": "22055f79-7b51-4b32-e96e-1d4396f2c710"
      },
      "source": [
        "import matplotlib.pyplot as plt\n",
        "\n",
        "plt.figure(figsize=(4, 4))\n",
        "image = x_train[np.random.choice(range(x_train.shape[0]))]\n",
        "plt.imshow(image.astype(\"float\"))\n",
        "plt.axis(\"off\")\n",
        "\n",
        "resized_image = tf.image.resize(\n",
        "    tf.convert_to_tensor([image]), size=(image_size, image_size)\n",
        ")\n",
        "patches = Patches(patch_size)(resized_image)\n",
        "print(f\"Image size: {image_size} X {image_size}\")\n",
        "print(f\"Patch size: {patch_size} X {patch_size}\")\n",
        "print(f\"Patches per image: {patches.shape[1]}\")\n",
        "print(f\"Elements per patch: {patches.shape[-1]}\")\n",
        "\n",
        "n = int(np.sqrt(patches.shape[1]))\n",
        "plt.figure(figsize=(4, 4))\n",
        "for i, patch in enumerate(patches[0]):\n",
        "    ax = plt.subplot(n, n, i + 1)\n",
        "    patch_img = tf.reshape(patch, (patch_size, patch_size, 3))\n",
        "    plt.imshow(patch_img.numpy().astype(\"float\"))\n",
        "    plt.axis(\"off\")"
      ],
      "execution_count": null,
      "outputs": [
        {
          "output_type": "stream",
          "name": "stdout",
          "text": [
            "Image size: 72 X 72\n",
            "Patch size: 6 X 6\n",
            "Patches per image: 144\n",
            "Elements per patch: 108\n"
          ]
        },
        {
          "output_type": "display_data",
          "data": {
            "image/png": "[encoded data removed]",
            "text/plain": [
              "<Figure size 288x288 with 1 Axes>"
            ]
          },
          "metadata": {}
        },
        {
          "output_type": "display_data",
          "data": {
            "image/png": "[encoded data removed]",
            "text/plain": [
              "<Figure size 288x288 with 144 Axes>"
            ]
          },
          "metadata": {}
        }
      ]
    },
    {
      "cell_type": "code",
      "metadata": {
        "id": "eSiX4QWRIivX"
      },
      "source": [
        "class PatchEncoder(layers.Layer):\n",
        "    def __init__(self, num_patches, projection_dim):\n",
        "        super(PatchEncoder, self).__init__()\n",
        "        self.num_patches = num_patches\n",
        "        self.projection = layers.Dense(units=projection_dim)\n",
        "        self.position_embedding = layers.Embedding(\n",
        "            input_dim=num_patches, output_dim=projection_dim\n",
        "        )\n",
        "\n",
        "    def call(self, patch):\n",
        "        positions = tf.range(start=0, limit=self.num_patches, delta=1)\n",
        "        encoded = self.projection(patch) + self.position_embedding(positions)\n",
        "        return encoded"
      ],
      "execution_count": null,
      "outputs": []
    },
    {
      "cell_type": "code",
      "metadata": {
        "id": "tHJU9isMIoR8"
      },
      "source": [
        "def create_vit_classifier():\n",
        "    inputs = layers.Input(shape=input_shape)\n",
        "    # Augment data.\n",
        "    augmented = data_augmentation(inputs)\n",
        "    # Create patches.\n",
        "    patches = Patches(patch_size)(augmented)\n",
        "    # Encode patches.\n",
        "    encoded_patches = PatchEncoder(num_patches, projection_dim)(patches)\n",
        "\n",
        "    # Create multiple layers of the Transformer block.\n",
        "    for _ in range(transformer_layers):\n",
        "        # Layer normalization 1.\n",
        "        x1 = layers.LayerNormalization(epsilon=1e-6)(encoded_patches)\n",
        "        # Create a multi-head attention layer.\n",
        "        attention_output = layers.MultiHeadAttention(\n",
        "            num_heads=num_heads, key_dim=projection_dim, dropout=0.1\n",
        "        )(x1, x1)\n",
        "        # Skip connection 1.\n",
        "        x2 = layers.Add()([attention_output, encoded_patches])\n",
        "        # Layer normalization 2.\n",
        "        x3 = layers.LayerNormalization(epsilon=1e-6)(x2)\n",
        "        # MLP.\n",
        "        x3 = mlp(x3, hidden_units=transformer_units, dropout_rate=0.1)\n",
        "        # Skip connection 2.\n",
        "        encoded_patches = layers.Add()([x3, x2])\n",
        "\n",
        "    # Create a [batch_size, projection_dim] tensor.\n",
        "    representation = layers.LayerNormalization(epsilon=1e-6)(encoded_patches)\n",
        "    representation = layers.Flatten()(representation)\n",
        "    representation = layers.Dropout(0.5)(representation)\n",
        "    # Add MLP.\n",
        "    features = mlp(representation, hidden_units=mlp_head_units, dropout_rate=0.5)\n",
        "    # Classify outputs.\n",
        "    logits = layers.Dense(num_classes)(features)\n",
        "    # Create the Keras model.\n",
        "    model = keras.Model(inputs=inputs, outputs=logits)\n",
        "    return model"
      ],
      "execution_count": null,
      "outputs": []
    },
    {
      "cell_type": "code",
      "metadata": {
        "id": "LPLsxXOBIrrv",
        "colab": {
          "base_uri": "https://localhost:8080/"
        },
        "outputId": "804a0fd6-3401-4c0d-cd7c-561ca6cbd6ba"
      },
      "source": [
        "def run_experiment(model):\n",
        "    optimizer = tfa.optimizers.AdamW(\n",
        "        learning_rate=learning_rate, weight_decay=weight_decay\n",
        "    )\n",
        "\n",
        "    model.compile(\n",
        "        optimizer=optimizer,\n",
        "        loss=keras.losses.SparseCategoricalCrossentropy(from_logits=True),\n",
        "        metrics=[\n",
        "            keras.metrics.SparseCategoricalAccuracy(name=\"accuracy\"),\n",
        "            keras.metrics.SparseTopKCategoricalAccuracy(5, name=\"top-5-accuracy\"),\n",
        "        ],\n",
        "    )\n",
        "\n",
        "    checkpoint_filepath = \"/tmp/checkpoint\"\n",
        "    checkpoint_callback = keras.callbacks.ModelCheckpoint(\n",
        "        checkpoint_filepath,\n",
        "        monitor=\"val_accuracy\",\n",
        "        save_best_only=True,\n",
        "        save_weights_only=True,\n",
        "    )\n",
        "\n",
        "    history = model.fit(\n",
        "        x=x_train,\n",
        "        y=y_train,\n",
        "        batch_size=batch_size,\n",
        "        epochs=num_epochs,\n",
        "        validation_split=0.1,\n",
        "        callbacks=[checkpoint_callback],\n",
        "    )\n",
        "\n",
        "    model.load_weights(checkpoint_filepath)\n",
        "    _, accuracy, top_5_accuracy = model.evaluate(x_test, y_test)\n",
        "    print(f\"Test accuracy: {round(accuracy * 100, 2)}%\")\n",
        "    print(f\"Test top 5 accuracy: {round(top_5_accuracy * 100, 2)}%\")\n",
        "    from sklearn.metrics import classification_report, confusion_matrix\n",
        "\n",
        "    # as I've trained my model on MNIST as odd or even (binary classes)\n",
        "    target_names = [\"ACK\", \"BCC\", \"MEL\",\"NEV\",\"SCC\",\"SEK\"]\n",
        "\n",
        "\n",
        "    # get predict prob and label \n",
        "    ypred = model.predict(x_test, verbose=1)\n",
        "    ypred = np.argmax(ypred, axis=1)\n",
        "    print(classification_report(np.argmax(y_test, axis=1), ypred, target_names=target_names))\n",
        "    import matplotlib.pyplot as plt\n",
        "    import seaborn as sns\n",
        "    import pandas as pd \n",
        "\n",
        "    cm = confusion_matrix(np.argmax(y_test, axis=1), ypred)\n",
        "    cm = pd.DataFrame(cm, range(6),range(6))\n",
        "    plt.figure(figsize = (10,10))\n",
        "\n",
        "    sns.heatmap(cm, annot=True, annot_kws={\"size\": 12}) # font size\n",
        "    plt.show()\n",
        "    return history\n",
        "\n",
        "\n",
        "vit_classifier = create_vit_classifier()\n",
        "history = run_experiment(vit_classifier)"
      ],
      "execution_count": null,
      "outputs": [
        {
          "output_type": "stream",
          "name": "stdout",
          "text": [
            "Epoch 1/5\n",
            "18/18 [==============================] - 305s 16s/step - loss: 3.1819 - accuracy: 0.5781 - top-5-accuracy: 1.0000 - val_loss: 0.6931 - val_accuracy: 0.5731 - val_top-5-accuracy: 1.0000\n",
            "Epoch 2/5\n",
            "18/18 [==============================] - 289s 16s/step - loss: 0.7424 - accuracy: 0.6351 - top-5-accuracy: 1.0000 - val_loss: 0.6174 - val_accuracy: 0.6934 - val_top-5-accuracy: 1.0000\n",
            "Epoch 3/5\n",
            "18/18 [==============================] - 291s 16s/step - loss: 0.6798 - accuracy: 0.6650 - top-5-accuracy: 1.0000 - val_loss: 0.6451 - val_accuracy: 0.6934 - val_top-5-accuracy: 1.0000\n",
            "Epoch 4/5\n",
            "18/18 [==============================] - 292s 16s/step - loss: 0.6530 - accuracy: 0.6699 - top-5-accuracy: 1.0000 - val_loss: 0.6212 - val_accuracy: 0.6914 - val_top-5-accuracy: 1.0000\n",
            "Epoch 5/5\n",
            "18/18 [==============================] - 289s 16s/step - loss: 0.6568 - accuracy: 0.6654 - top-5-accuracy: 1.0000 - val_loss: 0.6265 - val_accuracy: 0.6934 - val_top-5-accuracy: 1.0000\n",
            "67/67 [==============================] - 42s 620ms/step - loss: 0.6120 - accuracy: 0.7025 - top-5-accuracy: 1.0000\n",
            "Test accuracy: 70.25%\n",
            "Test top 5 accuracy: 100.0%\n"
          ]
        }
      ]
    },
    {
      "cell_type": "code",
      "metadata": {
        "colab": {
          "base_uri": "https://localhost:8080/",
          "height": 295
        },
        "id": "3djYPFHk0qiA",
        "outputId": "6935b8f4-1f5a-4012-ed26-d6de36ec52ca"
      },
      "source": [
        "plt.plot(history.history[\"loss\"], label=\"train_loss\")\n",
        "plt.plot(history.history[\"val_loss\"], label=\"val_loss\")\n",
        "plt.xlabel(\"Epochs\")\n",
        "plt.ylabel(\"Loss\")\n",
        "plt.title(\"Train and Validation Losses Over Epochs\", fontsize=14)\n",
        "plt.legend()\n",
        "plt.grid()\n",
        "plt.show()"
      ],
      "execution_count": null,
      "outputs": [
        {
          "output_type": "display_data",
          "data": {
            "image/png": "[encoded data removed]",
            "text/plain": [
              "<Figure size 432x288 with 1 Axes>"
            ]
          },
          "metadata": {}
        }
      ]
    },
    {
      "cell_type": "code",
      "metadata": {
        "id": "2lqxopyB00tJ"
      },
      "source": [
        "plt.plot(history.history[\"loss\"], label=\"train_loss\")\n",
        "plt.plot(history.history[\"val_loss\"], label=\"val_loss\")\n",
        "plt.xlabel(\"Epochs\")\n",
        "plt.ylabel(\"Loss\")\n",
        "plt.title(\"Train and Validation Losses Over Epochs\", fontsize=14)\n",
        "plt.legend()\n",
        "plt.grid()\n",
        "plt.show()"
      ],
      "execution_count": null,
      "outputs": []
    }
  ]
}