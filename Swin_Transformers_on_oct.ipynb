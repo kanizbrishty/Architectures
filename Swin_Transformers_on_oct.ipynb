{
  "cells": [
    {
      "cell_type": "code",
      "execution_count": null,
      "metadata": {
        "id": "HSdk9-lCdYum"
      },
      "outputs": [],
      "source": [
        "import matplotlib.pyplot as plt\n",
        "import seaborn as sns\n",
        "\n",
        "import keras\n",
        "from keras.models import Sequential\n",
        "from keras.layers import Dense, Conv2D , MaxPool2D , Flatten , Dropout \n",
        "from keras.preprocessing.image import ImageDataGenerator\n",
        "from tensorflow.keras.optimizers import Adam\n",
        "\n",
        "\n",
        "\n",
        "import tensorflow as tf\n",
        "\n",
        "import cv2\n",
        "import os\n",
        "\n",
        "import numpy as np"
      ]
    },
    {
      "cell_type": "code",
      "execution_count": null,
      "metadata": {
        "id": "II6hA280dc9S"
      },
      "outputs": [],
      "source": [
        "labels = [\"CNVA\", \"DMEA\", \"DRUSENA\",\"NORMALA\"]\n",
        "img_size = 32\n",
        "def get_data(data_dir):\n",
        "    data = [] \n",
        "    for label in labels: \n",
        "        path = os.path.join(data_dir, label)\n",
        "        class_num = labels.index(label)\n",
        "        for img in os.listdir(path):\n",
        "            try:\n",
        "                img_arr = cv2.imread(os.path.join(path, img))[...,::-1] #convert BGR to RGB format\n",
        "                resized_arr = cv2.resize(img_arr, (img_size, img_size)) # Reshaping images to preferred size\n",
        "                data.append([resized_arr, class_num])\n",
        "            except Exception as e:\n",
        "                print(e)\n",
        "    return np.array(data)"
      ]
    },
    {
      "cell_type": "code",
      "execution_count": null,
      "metadata": {
        "colab": {
          "base_uri": "https://localhost:8080/"
        },
        "id": "F8jHTHS8dfuE",
        "outputId": "c99714fc-3882-416b-a75a-74ffe9cf9bbc"
      },
      "outputs": [
        {
          "name": "stderr",
          "output_type": "stream",
          "text": [
            "/usr/local/lib/python3.7/dist-packages/ipykernel_launcher.py:15: VisibleDeprecationWarning: Creating an ndarray from ragged nested sequences (which is a list-or-tuple of lists-or-tuples-or ndarrays with different lengths or shapes) is deprecated. If you meant to do this, you must specify 'dtype=object' when creating the ndarray.\n",
            "  from ipykernel import kernelapp as app\n"
          ]
        }
      ],
      "source": [
        "train = get_data('/content/train-245')"
      ]
    },
    {
      "cell_type": "code",
      "execution_count": null,
      "metadata": {
        "colab": {
          "base_uri": "https://localhost:8080/",
          "height": 353
        },
        "id": "TaMFjQLddjyV",
        "outputId": "62194cc8-5137-4565-c811-49edba378445"
      },
      "outputs": [
        {
          "data": {
            "text/plain": [
              "Text(0.5, 1.0, 'CNVA')"
            ]
          },
          "execution_count": 113,
          "metadata": {},
          "output_type": "execute_result"
        },
        {
          "data": {
            "image/png": "[encoded data removed]",
            "text/plain": [
              "<Figure size 360x360 with 1 Axes>"
            ]
          },
          "metadata": {},
          "output_type": "display_data"
        }
      ],
      "source": [
        "plt.figure(figsize = (5,5))\n",
        "plt.imshow(train[1][0])\n",
        "plt.title(labels[train[0][1]])"
      ]
    },
    {
      "cell_type": "code",
      "execution_count": null,
      "metadata": {
        "id": "8qEgmCw-dpT8"
      },
      "outputs": [],
      "source": [
        "x_train = []\n",
        "y_train = []\n",
        "\n",
        "\n",
        "for feature, label in train:\n",
        "  x_train.append(feature)\n",
        "  y_train.append(label)\n",
        "x_train = np.array(x_train) / 255\n",
        "x_train.reshape(-1, img_size, img_size, 1)\n",
        "y_train = np.array(y_train)"
      ]
    },
    {
      "cell_type": "code",
      "execution_count": null,
      "metadata": {
        "id": "HHF4Cl6cdsHW"
      },
      "outputs": [],
      "source": [
        "# split with a stratified sampling\n",
        "from sklearn.model_selection import train_test_split\n",
        "(x_train, x_test, y_train, y_test) = train_test_split(x_train, y_train,\n",
        "    test_size=0.15, stratify=y_train, random_state=42)"
      ]
    },
    {
      "cell_type": "code",
      "execution_count": null,
      "metadata": {
        "id": "ylcPtghQdsz8"
      },
      "outputs": [],
      "source": [
        "!pip install -U -q tensorflow-addons"
      ]
    },
    {
      "cell_type": "code",
      "execution_count": null,
      "metadata": {
        "id": "h5dPXnlldyR0"
      },
      "outputs": [],
      "source": [
        "from tensorflow.keras import layers\n",
        "from tensorflow import keras\n",
        "\n",
        "import matplotlib.pyplot as plt\n",
        "import tensorflow_addons as tfa\n",
        "import tensorflow as tf\n",
        "import numpy as np"
      ]
    },
    {
      "cell_type": "code",
      "execution_count": null,
      "metadata": {
        "id": "K49szk-ld14w"
      },
      "outputs": [],
      "source": [
        "y_train = keras.utils.to_categorical(\n",
        "    y_train, num_classes=4, dtype='float32'\n",
        ")\n",
        "y_test = keras.utils.to_categorical(\n",
        "    y_test, num_classes=4, dtype='float32'\n",
        ")\n"
      ]
    },
    {
      "cell_type": "code",
      "execution_count": null,
      "metadata": {
        "id": "Hmsw4xifTQHi"
      },
      "outputs": [],
      "source": [
        "num_classes = 4\n",
        "input_shape = (32, 32, 3)"
      ]
    },
    {
      "cell_type": "code",
      "execution_count": null,
      "metadata": {
        "colab": {
          "base_uri": "https://localhost:8080/"
        },
        "id": "V-5OW7M3eCDm",
        "outputId": "0382f743-9cbc-4d96-b1c2-744e740bd491"
      },
      "outputs": [
        {
          "name": "stdout",
          "output_type": "stream",
          "text": [
            "x_train shape: (2644, 32, 32, 3) - y_train shape: (2644, 4)\n",
            "x_test shape: (467, 32, 32, 3) - y_test shape: (467, 4)\n"
          ]
        }
      ],
      "source": [
        "print(f\"x_train shape: {x_train.shape} - y_train shape: {y_train.shape}\")\n",
        "print(f\"x_test shape: {x_test.shape} - y_test shape: {y_test.shape}\")"
      ]
    },
    {
      "cell_type": "code",
      "execution_count": null,
      "metadata": {
        "id": "yZHjSW1mSfoM"
      },
      "outputs": [],
      "source": [
        "import matplotlib.pyplot as plt\n",
        "import numpy as np\n",
        "import tensorflow as tf\n",
        "import tensorflow_addons as tfa\n",
        "from tensorflow import keras\n",
        "from tensorflow.keras import layers"
      ]
    },
    {
      "cell_type": "code",
      "execution_count": null,
      "metadata": {
        "id": "c3cJqraHSky4"
      },
      "outputs": [],
      "source": [
        "patch_size = (2, 2)  # 2-by-2 sized patches\n",
        "dropout_rate = 0.03  # Dropout rate\n",
        "num_heads = 4  # Attention heads\n",
        "embed_dim = 64  # Embedding dimension\n",
        "num_mlp = 64  # MLP layer size\n",
        "qkv_bias = True  # Convert embedded patches to query, key, and values with a learnable additive value\n",
        "window_size = 2  # Size of attention window\n",
        "shift_size = 1  # Size of shifting window\n",
        "image_dimension = 32  # Initial image size\n",
        "\n",
        "num_patch_x = input_shape[0] // patch_size[0]\n",
        "num_patch_y = input_shape[1] // patch_size[1]\n",
        "\n",
        "learning_rate = 0.001\n",
        "batch_size = 128\n",
        "num_epochs = 100\n",
        "validation_split = 0.1\n",
        "weight_decay = 0.0001\n",
        "label_smoothing = 0.1"
      ]
    },
    {
      "cell_type": "code",
      "execution_count": null,
      "metadata": {
        "id": "Q6rUVpvNSk1t"
      },
      "outputs": [],
      "source": [
        "def window_partition(x, window_size):\n",
        "    _, height, width, channels = x.shape\n",
        "    patch_num_y = height // window_size\n",
        "    patch_num_x = width // window_size\n",
        "    x = tf.reshape(\n",
        "        x, shape=(-1, patch_num_y, window_size, patch_num_x, window_size, channels)\n",
        "    )\n",
        "    x = tf.transpose(x, (0, 1, 3, 2, 4, 5))\n",
        "    windows = tf.reshape(x, shape=(-1, window_size, window_size, channels))\n",
        "    return windows\n",
        "\n",
        "\n",
        "def window_reverse(windows, window_size, height, width, channels):\n",
        "    patch_num_y = height // window_size\n",
        "    patch_num_x = width // window_size\n",
        "    x = tf.reshape(\n",
        "        windows,\n",
        "        shape=(-1, patch_num_y, patch_num_x, window_size, window_size, channels),\n",
        "    )\n",
        "    x = tf.transpose(x, perm=(0, 1, 3, 2, 4, 5))\n",
        "    x = tf.reshape(x, shape=(-1, height, width, channels))\n",
        "    return x\n",
        "\n",
        "\n",
        "class DropPath(layers.Layer):\n",
        "    def __init__(self, drop_prob=None, **kwargs):\n",
        "        super(DropPath, self).__init__(**kwargs)\n",
        "        self.drop_prob = drop_prob\n",
        "\n",
        "    def call(self, x):\n",
        "        input_shape = tf.shape(x)\n",
        "        batch_size = input_shape[0]\n",
        "        rank = x.shape.rank\n",
        "        shape = (batch_size,) + (1,) * (rank - 1)\n",
        "        random_tensor = (1 - self.drop_prob) + tf.random.uniform(shape, dtype=x.dtype)\n",
        "        path_mask = tf.floor(random_tensor)\n",
        "        output = tf.math.divide(x, 1 - self.drop_prob) * path_mask\n",
        "        return output"
      ]
    },
    {
      "cell_type": "code",
      "execution_count": null,
      "metadata": {
        "id": "m_E5_g6gSk4J"
      },
      "outputs": [],
      "source": [
        "class WindowAttention(layers.Layer):\n",
        "    def __init__(\n",
        "        self, dim, window_size, num_heads, qkv_bias=True, dropout_rate=0.0, **kwargs\n",
        "    ):\n",
        "        super(WindowAttention, self).__init__(**kwargs)\n",
        "        self.dim = dim\n",
        "        self.window_size = window_size\n",
        "        self.num_heads = num_heads\n",
        "        self.scale = (dim // num_heads) ** -0.5\n",
        "        self.qkv = layers.Dense(dim * 3, use_bias=qkv_bias)\n",
        "        self.dropout = layers.Dropout(dropout_rate)\n",
        "        self.proj = layers.Dense(dim)\n",
        "\n",
        "    def build(self, input_shape):\n",
        "        num_window_elements = (2 * self.window_size[0] - 1) * (\n",
        "            2 * self.window_size[1] - 1\n",
        "        )\n",
        "        self.relative_position_bias_table = self.add_weight(\n",
        "            shape=(num_window_elements, self.num_heads),\n",
        "            initializer=tf.initializers.Zeros(),\n",
        "            trainable=True,\n",
        "        )\n",
        "        coords_h = np.arange(self.window_size[0])\n",
        "        coords_w = np.arange(self.window_size[1])\n",
        "        coords_matrix = np.meshgrid(coords_h, coords_w, indexing=\"ij\")\n",
        "        coords = np.stack(coords_matrix)\n",
        "        coords_flatten = coords.reshape(2, -1)\n",
        "        relative_coords = coords_flatten[:, :, None] - coords_flatten[:, None, :]\n",
        "        relative_coords = relative_coords.transpose([1, 2, 0])\n",
        "        relative_coords[:, :, 0] += self.window_size[0] - 1\n",
        "        relative_coords[:, :, 1] += self.window_size[1] - 1\n",
        "        relative_coords[:, :, 0] *= 2 * self.window_size[1] - 1\n",
        "        relative_position_index = relative_coords.sum(-1)\n",
        "\n",
        "        self.relative_position_index = tf.Variable(\n",
        "            initial_value=tf.convert_to_tensor(relative_position_index), trainable=False\n",
        "        )\n",
        "\n",
        "    def call(self, x, mask=None):\n",
        "        _, size, channels = x.shape\n",
        "        head_dim = channels // self.num_heads\n",
        "        x_qkv = self.qkv(x)\n",
        "        x_qkv = tf.reshape(x_qkv, shape=(-1, size, 3, self.num_heads, head_dim))\n",
        "        x_qkv = tf.transpose(x_qkv, perm=(2, 0, 3, 1, 4))\n",
        "        q, k, v = x_qkv[0], x_qkv[1], x_qkv[2]\n",
        "        q = q * self.scale\n",
        "        k = tf.transpose(k, perm=(0, 1, 3, 2))\n",
        "        attn = q @ k\n",
        "\n",
        "        num_window_elements = self.window_size[0] * self.window_size[1]\n",
        "        relative_position_index_flat = tf.reshape(\n",
        "            self.relative_position_index, shape=(-1,)\n",
        "        )\n",
        "        relative_position_bias = tf.gather(\n",
        "            self.relative_position_bias_table, relative_position_index_flat\n",
        "        )\n",
        "        relative_position_bias = tf.reshape(\n",
        "            relative_position_bias, shape=(num_window_elements, num_window_elements, -1)\n",
        "        )\n",
        "        relative_position_bias = tf.transpose(relative_position_bias, perm=(2, 0, 1))\n",
        "        attn = attn + tf.expand_dims(relative_position_bias, axis=0)\n",
        "\n",
        "        if mask is not None:\n",
        "            nW = mask.get_shape()[0]\n",
        "            mask_float = tf.cast(\n",
        "                tf.expand_dims(tf.expand_dims(mask, axis=1), axis=0), tf.float32\n",
        "            )\n",
        "            attn = (\n",
        "                tf.reshape(attn, shape=(-1, nW, self.num_heads, size, size))\n",
        "                + mask_float\n",
        "            )\n",
        "            attn = tf.reshape(attn, shape=(-1, self.num_heads, size, size))\n",
        "            attn = keras.activations.softmax(attn, axis=-1)\n",
        "        else:\n",
        "            attn = keras.activations.softmax(attn, axis=-1)\n",
        "        attn = self.dropout(attn)\n",
        "\n",
        "        x_qkv = attn @ v\n",
        "        x_qkv = tf.transpose(x_qkv, perm=(0, 2, 1, 3))\n",
        "        x_qkv = tf.reshape(x_qkv, shape=(-1, size, channels))\n",
        "        x_qkv = self.proj(x_qkv)\n",
        "        x_qkv = self.dropout(x_qkv)\n",
        "        return x_qkv\n"
      ]
    },
    {
      "cell_type": "code",
      "execution_count": null,
      "metadata": {
        "id": "UvqDHICcSk6v"
      },
      "outputs": [],
      "source": [
        "class SwinTransformer(layers.Layer):\n",
        "    def __init__(\n",
        "        self,\n",
        "        dim,\n",
        "        num_patch,\n",
        "        num_heads,\n",
        "        window_size=7,\n",
        "        shift_size=0,\n",
        "        num_mlp=1024,\n",
        "        qkv_bias=True,\n",
        "        dropout_rate=0.0,\n",
        "        **kwargs,\n",
        "    ):\n",
        "        super(SwinTransformer, self).__init__(**kwargs)\n",
        "\n",
        "        self.dim = dim  # number of input dimensions\n",
        "        self.num_patch = num_patch  # number of embedded patches\n",
        "        self.num_heads = num_heads  # number of attention heads\n",
        "        self.window_size = window_size  # size of window\n",
        "        self.shift_size = shift_size  # size of window shift\n",
        "        self.num_mlp = num_mlp  # number of MLP nodes\n",
        "\n",
        "        self.norm1 = layers.LayerNormalization(epsilon=1e-5)\n",
        "        self.attn = WindowAttention(\n",
        "            dim,\n",
        "            window_size=(self.window_size, self.window_size),\n",
        "            num_heads=num_heads,\n",
        "            qkv_bias=qkv_bias,\n",
        "            dropout_rate=dropout_rate,\n",
        "        )\n",
        "        self.drop_path = DropPath(dropout_rate)\n",
        "        self.norm2 = layers.LayerNormalization(epsilon=1e-5)\n",
        "\n",
        "        self.mlp = keras.Sequential(\n",
        "            [\n",
        "                layers.Dense(num_mlp),\n",
        "                layers.Activation(keras.activations.elu),\n",
        "                layers.Dropout(dropout_rate),\n",
        "                layers.Dense(dim),\n",
        "                layers.Dropout(dropout_rate),\n",
        "            ]\n",
        "        )\n",
        "\n",
        "        if min(self.num_patch) < self.window_size:\n",
        "            self.shift_size = 0\n",
        "            self.window_size = min(self.num_patch)\n",
        "\n",
        "    def build(self, input_shape):\n",
        "        if self.shift_size == 0:\n",
        "            self.attn_mask = None\n",
        "        else:\n",
        "            height, width = self.num_patch\n",
        "            h_slices = (\n",
        "                slice(0, -self.window_size),\n",
        "                slice(-self.window_size, -self.shift_size),\n",
        "                slice(-self.shift_size, None),\n",
        "            )\n",
        "            w_slices = (\n",
        "                slice(0, -self.window_size),\n",
        "                slice(-self.window_size, -self.shift_size),\n",
        "                slice(-self.shift_size, None),\n",
        "            )\n",
        "            mask_array = np.zeros((1, height, width, 1))\n",
        "            count = 0\n",
        "            for h in h_slices:\n",
        "                for w in w_slices:\n",
        "                    mask_array[:, h, w, :] = count\n",
        "                    count += 1\n",
        "            mask_array = tf.convert_to_tensor(mask_array)\n",
        "\n",
        "            # mask array to windows\n",
        "            mask_windows = window_partition(mask_array, self.window_size)\n",
        "            mask_windows = tf.reshape(\n",
        "                mask_windows, shape=[-1, self.window_size * self.window_size]\n",
        "            )\n",
        "            attn_mask = tf.expand_dims(mask_windows, axis=1) - tf.expand_dims(\n",
        "                mask_windows, axis=2\n",
        "            )\n",
        "            attn_mask = tf.where(attn_mask != 0, -100.0, attn_mask)\n",
        "            attn_mask = tf.where(attn_mask == 0, 0.0, attn_mask)\n",
        "            self.attn_mask = tf.Variable(initial_value=attn_mask, trainable=False)\n",
        "\n",
        "    def call(self, x):\n",
        "        height, width = self.num_patch\n",
        "        _, num_patches_before, channels = x.shape\n",
        "        x_skip = x\n",
        "        x = self.norm1(x)\n",
        "        x = tf.reshape(x, shape=(-1, height, width, channels))\n",
        "        if self.shift_size > 0:\n",
        "            shifted_x = tf.roll(\n",
        "                x, shift=[-self.shift_size, -self.shift_size], axis=[1, 2]\n",
        "            )\n",
        "        else:\n",
        "            shifted_x = x\n",
        "\n",
        "        x_windows = window_partition(shifted_x, self.window_size)\n",
        "        x_windows = tf.reshape(\n",
        "            x_windows, shape=(-1, self.window_size * self.window_size, channels)\n",
        "        )\n",
        "        attn_windows = self.attn(x_windows, mask=self.attn_mask)\n",
        "\n",
        "        attn_windows = tf.reshape(\n",
        "            attn_windows, shape=(-1, self.window_size, self.window_size, channels)\n",
        "        )\n",
        "        shifted_x = window_reverse(\n",
        "            attn_windows, self.window_size, height, width, channels\n",
        "        )\n",
        "        if self.shift_size > 0:\n",
        "            x = tf.roll(\n",
        "                shifted_x, shift=[self.shift_size, self.shift_size], axis=[1, 2]\n",
        "            )\n",
        "        else:\n",
        "            x = shifted_x\n",
        "\n",
        "        x = tf.reshape(x, shape=(-1, height * width, channels))\n",
        "        x = self.drop_path(x)\n",
        "        x = x_skip + x\n",
        "        x_skip = x\n",
        "        x = self.norm2(x)\n",
        "        x = self.mlp(x)\n",
        "        x = self.drop_path(x)\n",
        "        x = x_skip + x\n",
        "        return x\n"
      ]
    },
    {
      "cell_type": "code",
      "execution_count": null,
      "metadata": {
        "id": "6hO3XtafSk9W"
      },
      "outputs": [],
      "source": [
        "class PatchExtract(layers.Layer):\n",
        "    def __init__(self, patch_size, **kwargs):\n",
        "        super(PatchExtract, self).__init__(**kwargs)\n",
        "        self.patch_size_x = patch_size[0]\n",
        "        self.patch_size_y = patch_size[0]\n",
        "\n",
        "    def call(self, images):\n",
        "        batch_size = tf.shape(images)[0]\n",
        "        patches = tf.image.extract_patches(\n",
        "            images=images,\n",
        "            sizes=(1, self.patch_size_x, self.patch_size_y, 1),\n",
        "            strides=(1, self.patch_size_x, self.patch_size_y, 1),\n",
        "            rates=(1, 1, 1, 1),\n",
        "            padding=\"VALID\",\n",
        "        )\n",
        "        patch_dim = patches.shape[-1]\n",
        "        patch_num = patches.shape[1]\n",
        "        return tf.reshape(patches, (batch_size, patch_num * patch_num, patch_dim))\n",
        "\n",
        "\n",
        "class PatchEmbedding(layers.Layer):\n",
        "    def __init__(self, num_patch, embed_dim, **kwargs):\n",
        "        super(PatchEmbedding, self).__init__(**kwargs)\n",
        "        self.num_patch = num_patch\n",
        "        self.proj = layers.Dense(embed_dim)\n",
        "        self.pos_embed = layers.Embedding(input_dim=num_patch, output_dim=embed_dim)\n",
        "\n",
        "    def call(self, patch):\n",
        "        pos = tf.range(start=0, limit=self.num_patch, delta=1)\n",
        "        return self.proj(patch) + self.pos_embed(pos)\n",
        "\n",
        "\n",
        "class PatchMerging(tf.keras.layers.Layer):\n",
        "    def __init__(self, num_patch, embed_dim):\n",
        "        super(PatchMerging, self).__init__()\n",
        "        self.num_patch = num_patch\n",
        "        self.embed_dim = embed_dim\n",
        "        self.linear_trans = layers.Dense(2 * embed_dim, use_bias=False)\n",
        "\n",
        "    def call(self, x):\n",
        "        height, width = self.num_patch\n",
        "        _, _, C = x.get_shape().as_list()\n",
        "        x = tf.reshape(x, shape=(-1, height, width, C))\n",
        "        x0 = x[:, 0::2, 0::2, :]\n",
        "        x1 = x[:, 1::2, 0::2, :]\n",
        "        x2 = x[:, 0::2, 1::2, :]\n",
        "        x3 = x[:, 1::2, 1::2, :]\n",
        "        x = tf.concat((x0, x1, x2, x3), axis=-1)\n",
        "        x = tf.reshape(x, shape=(-1, (height // 2) * (width // 2), 4 * C))\n",
        "        return self.linear_trans(x)"
      ]
    },
    {
      "cell_type": "code",
      "execution_count": null,
      "metadata": {
        "id": "5EfkeOD0SlAD"
      },
      "outputs": [],
      "source": [
        "input = layers.Input(input_shape)\n",
        "x = layers.RandomCrop(image_dimension, image_dimension)(input)\n",
        "x = layers.RandomFlip(\"horizontal\")(x)\n",
        "x = PatchExtract(patch_size)(x)\n",
        "x = PatchEmbedding(num_patch_x * num_patch_y, embed_dim)(x)\n",
        "x = SwinTransformer(\n",
        "    dim=embed_dim,\n",
        "    num_patch=(num_patch_x, num_patch_y),\n",
        "    num_heads=num_heads,\n",
        "    window_size=window_size,\n",
        "    shift_size=0,\n",
        "    num_mlp=num_mlp,\n",
        "    qkv_bias=qkv_bias,\n",
        "    dropout_rate=dropout_rate,\n",
        ")(x)\n",
        "x = SwinTransformer(\n",
        "    dim=embed_dim,\n",
        "    num_patch=(num_patch_x, num_patch_y),\n",
        "    num_heads=num_heads,\n",
        "    window_size=window_size,\n",
        "    shift_size=shift_size,\n",
        "    num_mlp=num_mlp,\n",
        "    qkv_bias=qkv_bias,\n",
        "    dropout_rate=dropout_rate,\n",
        ")(x)\n",
        "x = PatchMerging((num_patch_x, num_patch_y), embed_dim=embed_dim)(x)\n",
        "x = layers.GlobalMaxPooling1D()(x)\n",
        "output = layers.Dense(num_classes, activation=\"softmax\")(x)"
      ]
    },
    {
      "cell_type": "code",
      "execution_count": null,
      "metadata": {
        "colab": {
          "base_uri": "https://localhost:8080/"
        },
        "id": "Ed-_gaJlSlCh",
        "outputId": "aea65bfa-e047-4e0e-bd39-7cc3a10900da"
      },
      "outputs": [
        {
          "name": "stdout",
          "output_type": "stream",
          "text": [
            "Epoch 1/100\n",
            "19/19 [==============================] - 7s 108ms/step - loss: 2.1651 - accuracy: 0.3527 - top-5-accuracy: 1.0000 - val_loss: 1.6526 - val_accuracy: 0.3698 - val_top-5-accuracy: 1.0000\n",
            "Epoch 2/100\n",
            "19/19 [==============================] - 1s 51ms/step - loss: 1.4095 - accuracy: 0.4128 - top-5-accuracy: 1.0000 - val_loss: 1.2751 - val_accuracy: 0.5170 - val_top-5-accuracy: 1.0000\n",
            "Epoch 3/100\n",
            "19/19 [==============================] - 1s 50ms/step - loss: 1.3046 - accuracy: 0.4527 - top-5-accuracy: 1.0000 - val_loss: 1.2850 - val_accuracy: 0.4830 - val_top-5-accuracy: 1.0000\n",
            "Epoch 4/100\n",
            "19/19 [==============================] - 1s 51ms/step - loss: 1.2659 - accuracy: 0.4716 - top-5-accuracy: 1.0000 - val_loss: 1.4442 - val_accuracy: 0.4830 - val_top-5-accuracy: 1.0000\n",
            "Epoch 5/100\n",
            "19/19 [==============================] - 1s 52ms/step - loss: 1.2515 - accuracy: 0.4952 - top-5-accuracy: 1.0000 - val_loss: 1.2810 - val_accuracy: 0.4943 - val_top-5-accuracy: 1.0000\n",
            "Epoch 6/100\n",
            "19/19 [==============================] - 1s 52ms/step - loss: 1.2164 - accuracy: 0.5145 - top-5-accuracy: 1.0000 - val_loss: 1.2639 - val_accuracy: 0.4906 - val_top-5-accuracy: 1.0000\n",
            "Epoch 7/100\n",
            "19/19 [==============================] - 1s 50ms/step - loss: 1.1749 - accuracy: 0.5158 - top-5-accuracy: 1.0000 - val_loss: 1.2160 - val_accuracy: 0.5472 - val_top-5-accuracy: 1.0000\n",
            "Epoch 8/100\n",
            "19/19 [==============================] - 1s 60ms/step - loss: 1.2385 - accuracy: 0.5015 - top-5-accuracy: 1.0000 - val_loss: 1.2274 - val_accuracy: 0.5321 - val_top-5-accuracy: 1.0000\n",
            "Epoch 9/100\n",
            "19/19 [==============================] - 1s 59ms/step - loss: 1.2164 - accuracy: 0.5338 - top-5-accuracy: 1.0000 - val_loss: 1.2694 - val_accuracy: 0.4755 - val_top-5-accuracy: 1.0000\n",
            "Epoch 10/100\n",
            "19/19 [==============================] - 1s 64ms/step - loss: 1.1494 - accuracy: 0.5578 - top-5-accuracy: 1.0000 - val_loss: 1.1553 - val_accuracy: 0.5887 - val_top-5-accuracy: 1.0000\n",
            "Epoch 11/100\n",
            "19/19 [==============================] - 1s 59ms/step - loss: 1.1204 - accuracy: 0.5755 - top-5-accuracy: 1.0000 - val_loss: 1.2287 - val_accuracy: 0.5434 - val_top-5-accuracy: 1.0000\n",
            "Epoch 12/100\n",
            "19/19 [==============================] - 1s 56ms/step - loss: 1.0737 - accuracy: 0.5927 - top-5-accuracy: 1.0000 - val_loss: 1.1862 - val_accuracy: 0.5358 - val_top-5-accuracy: 1.0000\n",
            "Epoch 13/100\n",
            "19/19 [==============================] - 1s 52ms/step - loss: 1.0392 - accuracy: 0.6129 - top-5-accuracy: 1.0000 - val_loss: 1.1655 - val_accuracy: 0.6000 - val_top-5-accuracy: 1.0000\n",
            "Epoch 14/100\n",
            "19/19 [==============================] - 1s 51ms/step - loss: 1.0237 - accuracy: 0.6230 - top-5-accuracy: 1.0000 - val_loss: 1.1434 - val_accuracy: 0.5509 - val_top-5-accuracy: 1.0000\n",
            "Epoch 15/100\n",
            "19/19 [==============================] - 1s 52ms/step - loss: 1.0171 - accuracy: 0.6360 - top-5-accuracy: 1.0000 - val_loss: 1.0771 - val_accuracy: 0.5887 - val_top-5-accuracy: 1.0000\n",
            "Epoch 16/100\n",
            "19/19 [==============================] - 1s 54ms/step - loss: 0.9987 - accuracy: 0.6499 - top-5-accuracy: 1.0000 - val_loss: 1.0422 - val_accuracy: 0.6189 - val_top-5-accuracy: 1.0000\n",
            "Epoch 17/100\n",
            "19/19 [==============================] - 1s 52ms/step - loss: 0.9745 - accuracy: 0.6574 - top-5-accuracy: 1.0000 - val_loss: 1.0029 - val_accuracy: 0.6453 - val_top-5-accuracy: 1.0000\n",
            "Epoch 18/100\n",
            "19/19 [==============================] - 1s 51ms/step - loss: 0.9184 - accuracy: 0.7020 - top-5-accuracy: 1.0000 - val_loss: 1.0547 - val_accuracy: 0.6226 - val_top-5-accuracy: 1.0000\n",
            "Epoch 19/100\n",
            "19/19 [==============================] - 1s 52ms/step - loss: 0.9573 - accuracy: 0.6692 - top-5-accuracy: 1.0000 - val_loss: 1.0367 - val_accuracy: 0.6151 - val_top-5-accuracy: 1.0000\n",
            "Epoch 20/100\n",
            "19/19 [==============================] - 1s 51ms/step - loss: 0.9579 - accuracy: 0.6789 - top-5-accuracy: 1.0000 - val_loss: 0.9990 - val_accuracy: 0.6415 - val_top-5-accuracy: 1.0000\n",
            "Epoch 21/100\n",
            "19/19 [==============================] - 1s 52ms/step - loss: 0.9567 - accuracy: 0.6747 - top-5-accuracy: 1.0000 - val_loss: 1.0495 - val_accuracy: 0.6113 - val_top-5-accuracy: 1.0000\n",
            "Epoch 22/100\n",
            "19/19 [==============================] - 1s 52ms/step - loss: 0.9169 - accuracy: 0.7037 - top-5-accuracy: 1.0000 - val_loss: 1.0420 - val_accuracy: 0.6377 - val_top-5-accuracy: 1.0000\n",
            "Epoch 23/100\n",
            "19/19 [==============================] - 1s 52ms/step - loss: 0.8811 - accuracy: 0.7175 - top-5-accuracy: 1.0000 - val_loss: 0.9990 - val_accuracy: 0.6566 - val_top-5-accuracy: 1.0000\n",
            "Epoch 24/100\n",
            "19/19 [==============================] - 1s 52ms/step - loss: 0.8425 - accuracy: 0.7364 - top-5-accuracy: 1.0000 - val_loss: 1.0246 - val_accuracy: 0.6679 - val_top-5-accuracy: 1.0000\n",
            "Epoch 25/100\n",
            "19/19 [==============================] - 1s 53ms/step - loss: 0.8594 - accuracy: 0.7419 - top-5-accuracy: 1.0000 - val_loss: 1.1005 - val_accuracy: 0.6491 - val_top-5-accuracy: 1.0000\n",
            "Epoch 26/100\n",
            "19/19 [==============================] - 1s 54ms/step - loss: 0.8538 - accuracy: 0.7348 - top-5-accuracy: 1.0000 - val_loss: 1.0251 - val_accuracy: 0.6755 - val_top-5-accuracy: 1.0000\n",
            "Epoch 27/100\n",
            "19/19 [==============================] - 1s 53ms/step - loss: 0.8393 - accuracy: 0.7327 - top-5-accuracy: 1.0000 - val_loss: 0.9685 - val_accuracy: 0.6755 - val_top-5-accuracy: 1.0000\n",
            "Epoch 28/100\n",
            "19/19 [==============================] - 1s 53ms/step - loss: 0.8541 - accuracy: 0.7373 - top-5-accuracy: 1.0000 - val_loss: 1.0153 - val_accuracy: 0.6981 - val_top-5-accuracy: 1.0000\n",
            "Epoch 29/100\n",
            "19/19 [==============================] - 1s 52ms/step - loss: 0.8020 - accuracy: 0.7621 - top-5-accuracy: 1.0000 - val_loss: 0.9297 - val_accuracy: 0.7057 - val_top-5-accuracy: 1.0000\n",
            "Epoch 30/100\n",
            "19/19 [==============================] - 1s 52ms/step - loss: 0.7705 - accuracy: 0.7923 - top-5-accuracy: 1.0000 - val_loss: 1.0180 - val_accuracy: 0.6830 - val_top-5-accuracy: 1.0000\n",
            "Epoch 31/100\n",
            "19/19 [==============================] - 1s 52ms/step - loss: 0.7620 - accuracy: 0.7844 - top-5-accuracy: 1.0000 - val_loss: 0.9279 - val_accuracy: 0.7019 - val_top-5-accuracy: 1.0000\n",
            "Epoch 32/100\n",
            "19/19 [==============================] - 1s 54ms/step - loss: 0.7921 - accuracy: 0.7709 - top-5-accuracy: 1.0000 - val_loss: 0.9705 - val_accuracy: 0.7019 - val_top-5-accuracy: 1.0000\n",
            "Epoch 33/100\n",
            "19/19 [==============================] - 1s 52ms/step - loss: 0.7518 - accuracy: 0.7991 - top-5-accuracy: 1.0000 - val_loss: 0.9840 - val_accuracy: 0.7057 - val_top-5-accuracy: 1.0000\n",
            "Epoch 34/100\n",
            "19/19 [==============================] - 1s 53ms/step - loss: 0.7327 - accuracy: 0.8201 - top-5-accuracy: 1.0000 - val_loss: 0.9621 - val_accuracy: 0.6792 - val_top-5-accuracy: 1.0000\n",
            "Epoch 35/100\n",
            "19/19 [==============================] - 1s 52ms/step - loss: 0.7519 - accuracy: 0.7999 - top-5-accuracy: 1.0000 - val_loss: 0.9411 - val_accuracy: 0.7094 - val_top-5-accuracy: 1.0000\n",
            "Epoch 36/100\n",
            "19/19 [==============================] - 1s 52ms/step - loss: 0.7278 - accuracy: 0.8121 - top-5-accuracy: 1.0000 - val_loss: 0.9323 - val_accuracy: 0.6755 - val_top-5-accuracy: 1.0000\n",
            "Epoch 37/100\n",
            "19/19 [==============================] - 1s 54ms/step - loss: 0.7163 - accuracy: 0.8150 - top-5-accuracy: 1.0000 - val_loss: 0.9130 - val_accuracy: 0.7132 - val_top-5-accuracy: 1.0000\n",
            "Epoch 38/100\n",
            "19/19 [==============================] - 1s 53ms/step - loss: 0.7153 - accuracy: 0.8188 - top-5-accuracy: 1.0000 - val_loss: 0.9711 - val_accuracy: 0.7208 - val_top-5-accuracy: 1.0000\n",
            "Epoch 39/100\n",
            "19/19 [==============================] - 1s 52ms/step - loss: 0.7207 - accuracy: 0.8066 - top-5-accuracy: 1.0000 - val_loss: 0.9342 - val_accuracy: 0.7132 - val_top-5-accuracy: 1.0000\n",
            "Epoch 40/100\n",
            "19/19 [==============================] - 1s 52ms/step - loss: 0.7151 - accuracy: 0.8146 - top-5-accuracy: 1.0000 - val_loss: 1.0443 - val_accuracy: 0.6868 - val_top-5-accuracy: 1.0000\n",
            "Epoch 41/100\n",
            "19/19 [==============================] - 1s 52ms/step - loss: 0.7248 - accuracy: 0.8251 - top-5-accuracy: 1.0000 - val_loss: 0.9678 - val_accuracy: 0.7358 - val_top-5-accuracy: 1.0000\n",
            "Epoch 42/100\n",
            "19/19 [==============================] - 1s 52ms/step - loss: 0.6725 - accuracy: 0.8483 - top-5-accuracy: 1.0000 - val_loss: 0.9047 - val_accuracy: 0.7434 - val_top-5-accuracy: 1.0000\n",
            "Epoch 43/100\n",
            "19/19 [==============================] - 1s 51ms/step - loss: 0.6713 - accuracy: 0.8504 - top-5-accuracy: 1.0000 - val_loss: 0.8918 - val_accuracy: 0.7019 - val_top-5-accuracy: 1.0000\n",
            "Epoch 44/100\n",
            "19/19 [==============================] - 1s 51ms/step - loss: 0.6771 - accuracy: 0.8478 - top-5-accuracy: 1.0000 - val_loss: 0.8425 - val_accuracy: 0.7472 - val_top-5-accuracy: 1.0000\n",
            "Epoch 45/100\n",
            "19/19 [==============================] - 1s 56ms/step - loss: 0.6733 - accuracy: 0.8449 - top-5-accuracy: 1.0000 - val_loss: 0.8588 - val_accuracy: 0.7585 - val_top-5-accuracy: 1.0000\n",
            "Epoch 46/100\n",
            "19/19 [==============================] - 1s 55ms/step - loss: 0.6571 - accuracy: 0.8583 - top-5-accuracy: 1.0000 - val_loss: 0.8390 - val_accuracy: 0.7698 - val_top-5-accuracy: 1.0000\n",
            "Epoch 47/100\n",
            "19/19 [==============================] - 1s 52ms/step - loss: 0.6387 - accuracy: 0.8743 - top-5-accuracy: 1.0000 - val_loss: 0.8431 - val_accuracy: 0.7698 - val_top-5-accuracy: 1.0000\n",
            "Epoch 48/100\n",
            "19/19 [==============================] - 1s 52ms/step - loss: 0.6329 - accuracy: 0.8777 - top-5-accuracy: 1.0000 - val_loss: 0.9171 - val_accuracy: 0.7245 - val_top-5-accuracy: 1.0000\n",
            "Epoch 49/100\n",
            "19/19 [==============================] - 1s 52ms/step - loss: 0.6339 - accuracy: 0.8718 - top-5-accuracy: 1.0000 - val_loss: 0.9040 - val_accuracy: 0.7245 - val_top-5-accuracy: 1.0000\n",
            "Epoch 50/100\n",
            "19/19 [==============================] - 1s 52ms/step - loss: 0.6316 - accuracy: 0.8739 - top-5-accuracy: 1.0000 - val_loss: 0.8427 - val_accuracy: 0.7698 - val_top-5-accuracy: 1.0000\n",
            "Epoch 51/100\n",
            "19/19 [==============================] - 1s 51ms/step - loss: 0.6621 - accuracy: 0.8625 - top-5-accuracy: 1.0000 - val_loss: 0.9343 - val_accuracy: 0.6906 - val_top-5-accuracy: 1.0000\n",
            "Epoch 52/100\n",
            "19/19 [==============================] - 1s 52ms/step - loss: 0.6260 - accuracy: 0.8810 - top-5-accuracy: 1.0000 - val_loss: 0.9164 - val_accuracy: 0.7358 - val_top-5-accuracy: 1.0000\n",
            "Epoch 53/100\n",
            "19/19 [==============================] - 1s 53ms/step - loss: 0.6295 - accuracy: 0.8756 - top-5-accuracy: 1.0000 - val_loss: 0.9098 - val_accuracy: 0.7094 - val_top-5-accuracy: 1.0000\n",
            "Epoch 54/100\n",
            "19/19 [==============================] - 1s 54ms/step - loss: 0.6280 - accuracy: 0.8747 - top-5-accuracy: 1.0000 - val_loss: 0.8799 - val_accuracy: 0.7245 - val_top-5-accuracy: 1.0000\n",
            "Epoch 55/100\n",
            "19/19 [==============================] - 1s 52ms/step - loss: 0.5946 - accuracy: 0.9054 - top-5-accuracy: 1.0000 - val_loss: 0.8571 - val_accuracy: 0.7434 - val_top-5-accuracy: 1.0000\n",
            "Epoch 56/100\n",
            "19/19 [==============================] - 1s 52ms/step - loss: 0.6022 - accuracy: 0.8865 - top-5-accuracy: 1.0000 - val_loss: 0.8884 - val_accuracy: 0.7358 - val_top-5-accuracy: 1.0000\n",
            "Epoch 57/100\n",
            "19/19 [==============================] - 1s 52ms/step - loss: 0.5994 - accuracy: 0.8974 - top-5-accuracy: 1.0000 - val_loss: 0.8302 - val_accuracy: 0.7396 - val_top-5-accuracy: 1.0000\n",
            "Epoch 58/100\n",
            "19/19 [==============================] - 1s 53ms/step - loss: 0.5798 - accuracy: 0.9058 - top-5-accuracy: 1.0000 - val_loss: 0.8169 - val_accuracy: 0.7623 - val_top-5-accuracy: 1.0000\n",
            "Epoch 59/100\n",
            "19/19 [==============================] - 1s 53ms/step - loss: 0.5761 - accuracy: 0.9121 - top-5-accuracy: 1.0000 - val_loss: 0.9127 - val_accuracy: 0.7019 - val_top-5-accuracy: 1.0000\n",
            "Epoch 60/100\n",
            "19/19 [==============================] - 1s 52ms/step - loss: 0.5763 - accuracy: 0.9100 - top-5-accuracy: 1.0000 - val_loss: 0.8343 - val_accuracy: 0.7585 - val_top-5-accuracy: 1.0000\n",
            "Epoch 61/100\n",
            "19/19 [==============================] - 1s 51ms/step - loss: 0.5942 - accuracy: 0.8953 - top-5-accuracy: 1.0000 - val_loss: 0.8567 - val_accuracy: 0.7547 - val_top-5-accuracy: 1.0000\n",
            "Epoch 62/100\n",
            "19/19 [==============================] - 1s 52ms/step - loss: 0.5761 - accuracy: 0.9147 - top-5-accuracy: 1.0000 - val_loss: 0.8334 - val_accuracy: 0.7547 - val_top-5-accuracy: 1.0000\n",
            "Epoch 63/100\n",
            "19/19 [==============================] - 1s 52ms/step - loss: 0.5727 - accuracy: 0.9130 - top-5-accuracy: 1.0000 - val_loss: 0.8568 - val_accuracy: 0.7472 - val_top-5-accuracy: 1.0000\n",
            "Epoch 64/100\n",
            "19/19 [==============================] - 1s 53ms/step - loss: 0.5703 - accuracy: 0.9138 - top-5-accuracy: 1.0000 - val_loss: 0.8667 - val_accuracy: 0.7547 - val_top-5-accuracy: 1.0000\n",
            "Epoch 65/100\n",
            "19/19 [==============================] - 1s 52ms/step - loss: 0.5604 - accuracy: 0.9248 - top-5-accuracy: 1.0000 - val_loss: 0.9448 - val_accuracy: 0.7396 - val_top-5-accuracy: 1.0000\n",
            "Epoch 66/100\n",
            "19/19 [==============================] - 1s 52ms/step - loss: 0.5755 - accuracy: 0.9142 - top-5-accuracy: 1.0000 - val_loss: 0.8643 - val_accuracy: 0.7585 - val_top-5-accuracy: 1.0000\n",
            "Epoch 67/100\n",
            "19/19 [==============================] - 1s 51ms/step - loss: 0.5424 - accuracy: 0.9344 - top-5-accuracy: 1.0000 - val_loss: 0.8477 - val_accuracy: 0.7623 - val_top-5-accuracy: 1.0000\n",
            "Epoch 68/100\n",
            "19/19 [==============================] - 1s 51ms/step - loss: 0.5455 - accuracy: 0.9332 - top-5-accuracy: 1.0000 - val_loss: 0.8769 - val_accuracy: 0.7358 - val_top-5-accuracy: 1.0000\n",
            "Epoch 69/100\n",
            "19/19 [==============================] - 1s 51ms/step - loss: 0.5574 - accuracy: 0.9180 - top-5-accuracy: 1.0000 - val_loss: 0.8463 - val_accuracy: 0.7434 - val_top-5-accuracy: 1.0000\n",
            "Epoch 70/100\n",
            "19/19 [==============================] - 1s 53ms/step - loss: 0.5461 - accuracy: 0.9332 - top-5-accuracy: 1.0000 - val_loss: 0.8601 - val_accuracy: 0.7509 - val_top-5-accuracy: 1.0000\n",
            "Epoch 71/100\n",
            "19/19 [==============================] - 1s 51ms/step - loss: 0.5450 - accuracy: 0.9298 - top-5-accuracy: 1.0000 - val_loss: 0.8383 - val_accuracy: 0.7472 - val_top-5-accuracy: 1.0000\n",
            "Epoch 72/100\n",
            "19/19 [==============================] - 1s 52ms/step - loss: 0.5323 - accuracy: 0.9378 - top-5-accuracy: 1.0000 - val_loss: 0.8526 - val_accuracy: 0.7434 - val_top-5-accuracy: 1.0000\n",
            "Epoch 73/100\n",
            "19/19 [==============================] - 1s 51ms/step - loss: 0.5216 - accuracy: 0.9504 - top-5-accuracy: 1.0000 - val_loss: 0.8442 - val_accuracy: 0.7321 - val_top-5-accuracy: 1.0000\n",
            "Epoch 74/100\n",
            "19/19 [==============================] - 1s 54ms/step - loss: 0.5308 - accuracy: 0.9433 - top-5-accuracy: 1.0000 - val_loss: 0.8374 - val_accuracy: 0.7509 - val_top-5-accuracy: 1.0000\n",
            "Epoch 75/100\n",
            "19/19 [==============================] - 1s 53ms/step - loss: 0.5296 - accuracy: 0.9357 - top-5-accuracy: 1.0000 - val_loss: 0.8372 - val_accuracy: 0.7698 - val_top-5-accuracy: 1.0000\n",
            "Epoch 76/100\n",
            "19/19 [==============================] - 1s 54ms/step - loss: 0.5371 - accuracy: 0.9365 - top-5-accuracy: 1.0000 - val_loss: 0.8334 - val_accuracy: 0.7585 - val_top-5-accuracy: 1.0000\n",
            "Epoch 77/100\n",
            "19/19 [==============================] - 1s 52ms/step - loss: 0.5237 - accuracy: 0.9437 - top-5-accuracy: 1.0000 - val_loss: 0.8678 - val_accuracy: 0.7396 - val_top-5-accuracy: 1.0000\n",
            "Epoch 78/100\n",
            "19/19 [==============================] - 1s 53ms/step - loss: 0.5409 - accuracy: 0.9298 - top-5-accuracy: 1.0000 - val_loss: 0.8545 - val_accuracy: 0.7585 - val_top-5-accuracy: 1.0000\n",
            "Epoch 79/100\n",
            "19/19 [==============================] - 1s 52ms/step - loss: 0.5265 - accuracy: 0.9416 - top-5-accuracy: 1.0000 - val_loss: 0.8440 - val_accuracy: 0.7623 - val_top-5-accuracy: 1.0000\n",
            "Epoch 80/100\n",
            "19/19 [==============================] - 1s 53ms/step - loss: 0.5205 - accuracy: 0.9462 - top-5-accuracy: 1.0000 - val_loss: 0.9143 - val_accuracy: 0.7283 - val_top-5-accuracy: 1.0000\n",
            "Epoch 81/100\n",
            "19/19 [==============================] - 1s 54ms/step - loss: 0.5326 - accuracy: 0.9369 - top-5-accuracy: 1.0000 - val_loss: 0.8708 - val_accuracy: 0.7245 - val_top-5-accuracy: 1.0000\n",
            "Epoch 82/100\n",
            "19/19 [==============================] - 1s 52ms/step - loss: 0.5258 - accuracy: 0.9407 - top-5-accuracy: 1.0000 - val_loss: 0.8718 - val_accuracy: 0.7547 - val_top-5-accuracy: 1.0000\n",
            "Epoch 83/100\n",
            "19/19 [==============================] - 1s 53ms/step - loss: 0.5216 - accuracy: 0.9504 - top-5-accuracy: 1.0000 - val_loss: 0.8280 - val_accuracy: 0.7623 - val_top-5-accuracy: 1.0000\n",
            "Epoch 84/100\n",
            "19/19 [==============================] - 1s 54ms/step - loss: 0.5143 - accuracy: 0.9504 - top-5-accuracy: 1.0000 - val_loss: 0.8206 - val_accuracy: 0.7774 - val_top-5-accuracy: 1.0000\n",
            "Epoch 85/100\n",
            "19/19 [==============================] - 1s 53ms/step - loss: 0.5028 - accuracy: 0.9550 - top-5-accuracy: 1.0000 - val_loss: 0.8647 - val_accuracy: 0.7509 - val_top-5-accuracy: 1.0000\n",
            "Epoch 86/100\n",
            "19/19 [==============================] - 1s 52ms/step - loss: 0.4945 - accuracy: 0.9617 - top-5-accuracy: 1.0000 - val_loss: 0.8221 - val_accuracy: 0.7698 - val_top-5-accuracy: 1.0000\n",
            "Epoch 87/100\n",
            "19/19 [==============================] - 1s 52ms/step - loss: 0.4999 - accuracy: 0.9630 - top-5-accuracy: 1.0000 - val_loss: 0.8164 - val_accuracy: 0.7774 - val_top-5-accuracy: 1.0000\n",
            "Epoch 88/100\n",
            "19/19 [==============================] - 1s 54ms/step - loss: 0.4967 - accuracy: 0.9613 - top-5-accuracy: 1.0000 - val_loss: 0.8542 - val_accuracy: 0.7509 - val_top-5-accuracy: 1.0000\n",
            "Epoch 89/100\n",
            "19/19 [==============================] - 1s 59ms/step - loss: 0.4951 - accuracy: 0.9651 - top-5-accuracy: 1.0000 - val_loss: 0.8743 - val_accuracy: 0.7358 - val_top-5-accuracy: 1.0000\n",
            "Epoch 90/100\n",
            "19/19 [==============================] - 1s 60ms/step - loss: 0.4873 - accuracy: 0.9664 - top-5-accuracy: 1.0000 - val_loss: 0.8235 - val_accuracy: 0.7698 - val_top-5-accuracy: 1.0000\n",
            "Epoch 91/100\n",
            "19/19 [==============================] - 1s 64ms/step - loss: 0.4938 - accuracy: 0.9617 - top-5-accuracy: 1.0000 - val_loss: 0.8939 - val_accuracy: 0.7396 - val_top-5-accuracy: 1.0000\n",
            "Epoch 92/100\n",
            "19/19 [==============================] - 1s 57ms/step - loss: 0.5081 - accuracy: 0.9529 - top-5-accuracy: 1.0000 - val_loss: 0.8636 - val_accuracy: 0.7585 - val_top-5-accuracy: 1.0000\n",
            "Epoch 93/100\n",
            "19/19 [==============================] - 1s 53ms/step - loss: 0.5134 - accuracy: 0.9487 - top-5-accuracy: 1.0000 - val_loss: 0.9055 - val_accuracy: 0.7396 - val_top-5-accuracy: 1.0000\n",
            "Epoch 94/100\n",
            "19/19 [==============================] - 1s 52ms/step - loss: 0.5168 - accuracy: 0.9437 - top-5-accuracy: 1.0000 - val_loss: 0.8876 - val_accuracy: 0.7358 - val_top-5-accuracy: 1.0000\n",
            "Epoch 95/100\n",
            "19/19 [==============================] - 1s 52ms/step - loss: 0.5217 - accuracy: 0.9445 - top-5-accuracy: 1.0000 - val_loss: 0.8545 - val_accuracy: 0.7623 - val_top-5-accuracy: 1.0000\n",
            "Epoch 96/100\n",
            "19/19 [==============================] - 1s 53ms/step - loss: 0.5076 - accuracy: 0.9546 - top-5-accuracy: 1.0000 - val_loss: 0.8174 - val_accuracy: 0.7774 - val_top-5-accuracy: 1.0000\n",
            "Epoch 97/100\n",
            "19/19 [==============================] - 1s 55ms/step - loss: 0.4979 - accuracy: 0.9554 - top-5-accuracy: 1.0000 - val_loss: 0.8177 - val_accuracy: 0.7585 - val_top-5-accuracy: 1.0000\n",
            "Epoch 98/100\n",
            "19/19 [==============================] - 1s 53ms/step - loss: 0.4891 - accuracy: 0.9639 - top-5-accuracy: 1.0000 - val_loss: 0.8787 - val_accuracy: 0.7547 - val_top-5-accuracy: 1.0000\n",
            "Epoch 99/100\n",
            "19/19 [==============================] - 1s 54ms/step - loss: 0.4877 - accuracy: 0.9613 - top-5-accuracy: 1.0000 - val_loss: 0.8295 - val_accuracy: 0.7585 - val_top-5-accuracy: 1.0000\n",
            "Epoch 100/100\n",
            "19/19 [==============================] - 1s 55ms/step - loss: 0.4799 - accuracy: 0.9714 - top-5-accuracy: 1.0000 - val_loss: 0.8519 - val_accuracy: 0.7623 - val_top-5-accuracy: 1.0000\n",
            "15/15 [==============================] - 0s 13ms/step - loss: 0.8390 - accuracy: 0.7752 - top-5-accuracy: 1.0000\n",
            "Test loss: 0.84\n",
            "Test accuracy: 77.52%\n",
            "Test top 5 accuracy: 100.0%\n"
          ]
        }
      ],
      "source": [
        "model = keras.Model(input, output)\n",
        "model.compile(\n",
        "    loss=keras.losses.CategoricalCrossentropy(label_smoothing=label_smoothing),\n",
        "    optimizer=tfa.optimizers.AdamW(\n",
        "        learning_rate=learning_rate, weight_decay=weight_decay\n",
        "    ),\n",
        "    metrics=[\n",
        "        keras.metrics.CategoricalAccuracy(name=\"accuracy\"),\n",
        "        keras.metrics.TopKCategoricalAccuracy(5, name=\"top-5-accuracy\"),\n",
        "    ],\n",
        ")\n",
        "\n",
        "history = model.fit(\n",
        "    x_train,\n",
        "    y_train,\n",
        "    batch_size=batch_size,\n",
        "    epochs=num_epochs,\n",
        "    validation_split=validation_split,\n",
        ")\n",
        "\n",
        "\n",
        "loss, accuracy, top_5_accuracy = model.evaluate(x_test, y_test)\n",
        "print(f\"Test loss: {round(loss, 2)}\")\n",
        "print(f\"Test accuracy: {round(accuracy * 100, 2)}%\")\n",
        "print(f\"Test top 5 accuracy: {round(top_5_accuracy * 100, 2)}%\")\n",
        "from sklearn.metrics import classification_report, confusion_matrix\n",
        "\n",
        "\n",
        "\n",
        "\n"
      ]
    },
    {
      "cell_type": "code",
      "execution_count": null,
      "metadata": {
        "colab": {
          "base_uri": "https://localhost:8080/",
          "height": 130
        },
        "id": "qyoIgN6cM9GB",
        "outputId": "1236301d-04f5-4869-91af-ca04ac01ef09"
      },
      "outputs": [
        {
          "ename": "IndentationError",
          "evalue": "ignored",
          "output_type": "error",
          "traceback": [
            "\u001b[0;36m  File \u001b[0;32m\"<ipython-input-27-63d3b9f9feab>\"\u001b[0;36m, line \u001b[0;32m2\u001b[0m\n\u001b[0;31m    cm = pd.DataFrame(cm, range(4),range(4))\u001b[0m\n\u001b[0m    ^\u001b[0m\n\u001b[0;31mIndentationError\u001b[0m\u001b[0;31m:\u001b[0m unexpected indent\n"
          ]
        }
      ],
      "source": [
        "cm = confusion_matrix(np.argmax(y_test, axis=1), ypred)\n",
        "    cm = pd.DataFrame(cm, range(4),range(4))\n",
        "    plt.figure(figsize = (10,10))\n",
        "\n",
        "    sns.heatmap(cm, annot=True, annot_kws={\"size\": 12}) # font size\n",
        "    plt.show()\n",
        "    return history\n"
      ]
    },
    {
      "cell_type": "code",
      "execution_count": null,
      "metadata": {
        "colab": {
          "base_uri": "https://localhost:8080/",
          "height": 296
        },
        "id": "bTxPWzzfSlIA",
        "outputId": "fa1521f5-2e18-43a3-9618-9cdc3847e36f"
      },
      "outputs": [
        {
          "data": {
            "image/png": "[encoded data removed]",
            "text/plain": [
              "<Figure size 432x288 with 1 Axes>"
            ]
          },
          "metadata": {},
          "output_type": "display_data"
        }
      ],
      "source": [
        "plt.plot(history.history[\"loss\"], label=\"train_loss\")\n",
        "plt.plot(history.history[\"val_loss\"], label=\"val_loss\")\n",
        "plt.xlabel(\"Epochs\")\n",
        "plt.ylabel(\"Loss\")\n",
        "plt.title(\"Train and Validation Losses Over Epochs\", fontsize=14)\n",
        "plt.legend()\n",
        "plt.grid()\n",
        "plt.show()"
      ]
    },
    {
      "cell_type": "code",
      "execution_count": null,
      "metadata": {
        "colab": {
          "base_uri": "https://localhost:8080/",
          "height": 296
        },
        "id": "FlMspuf_SlLY",
        "outputId": "487bdf39-164f-41d3-e349-b0ffec62ba44"
      },
      "outputs": [
        {
          "data": {
            "image/png": "[encoded data removed]",
            "text/plain": [
              "<Figure size 432x288 with 1 Axes>"
            ]
          },
          "metadata": {},
          "output_type": "display_data"
        }
      ],
      "source": [
        "plt.plot(history.history[\"accuracy\"], label=\"train_accuracy\")\n",
        "plt.plot(history.history[\"val_accuracy\"], label=\"val_accuracy\")\n",
        "plt.xlabel(\"Epochs\")\n",
        "plt.ylabel(\"accuracy\")\n",
        "plt.title(\"Train and Validation accuracy Over Epochs\", fontsize=14)\n",
        "plt.legend()\n",
        "plt.grid()\n",
        "plt.show()"
      ]
    }
  ],
  "metadata": {
    "accelerator": "GPU",
    "colab": {
      "provenance": []
    },
    "gpuClass": "standard",
    "kernelspec": {
      "display_name": "Python 3",
      "name": "python3"
    },
    "language_info": {
      "name": "python"
    }
  },
  "nbformat": 4,
  "nbformat_minor": 0
}
